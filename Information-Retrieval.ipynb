{
  "nbformat": 4,
  "nbformat_minor": 0,
  "metadata": {
    "colab": {
      "name": "Information_Retrieval_Homework_3.ipynb",
      "provenance": [],
      "collapsed_sections": [],
      "include_colab_link": true
    },
    "kernelspec": {
      "display_name": "Python 3",
      "language": "python",
      "name": "python3"
    },
    "language_info": {
      "codemirror_mode": {
        "name": "ipython",
        "version": 3
      },
      "file_extension": ".py",
      "mimetype": "text/x-python",
      "name": "python",
      "nbconvert_exporter": "python",
      "pygments_lexer": "ipython3",
      "version": "3.7.6"
    },
    "widgets": {
      "application/vnd.jupyter.widget-state+json": {
        "ff72374fa76f420bb2e392f08b0e3a42": {
          "model_module": "@jupyter-widgets/controls",
          "model_name": "HBoxModel",
          "state": {
            "_dom_classes": [],
            "_model_module": "@jupyter-widgets/controls",
            "_model_module_version": "1.5.0",
            "_model_name": "HBoxModel",
            "_view_count": null,
            "_view_module": "@jupyter-widgets/controls",
            "_view_module_version": "1.5.0",
            "_view_name": "HBoxView",
            "box_style": "",
            "children": [
              "IPY_MODEL_4a221adc505d4abaaf14f7445a1452ba",
              "IPY_MODEL_51deb93173184747b730d590e05611cd"
            ],
            "layout": "IPY_MODEL_a9cf0877ae54486eb3a3c67abc221c77"
          }
        },
        "a9cf0877ae54486eb3a3c67abc221c77": {
          "model_module": "@jupyter-widgets/base",
          "model_name": "LayoutModel",
          "state": {
            "_model_module": "@jupyter-widgets/base",
            "_model_module_version": "1.2.0",
            "_model_name": "LayoutModel",
            "_view_count": null,
            "_view_module": "@jupyter-widgets/base",
            "_view_module_version": "1.2.0",
            "_view_name": "LayoutView",
            "align_content": null,
            "align_items": null,
            "align_self": null,
            "border": null,
            "bottom": null,
            "display": null,
            "flex": null,
            "flex_flow": null,
            "grid_area": null,
            "grid_auto_columns": null,
            "grid_auto_flow": null,
            "grid_auto_rows": null,
            "grid_column": null,
            "grid_gap": null,
            "grid_row": null,
            "grid_template_areas": null,
            "grid_template_columns": null,
            "grid_template_rows": null,
            "height": null,
            "justify_content": null,
            "justify_items": null,
            "left": null,
            "margin": null,
            "max_height": null,
            "max_width": null,
            "min_height": null,
            "min_width": null,
            "object_fit": null,
            "object_position": null,
            "order": null,
            "overflow": null,
            "overflow_x": null,
            "overflow_y": null,
            "padding": null,
            "right": null,
            "top": null,
            "visibility": null,
            "width": null
          }
        },
        "4a221adc505d4abaaf14f7445a1452ba": {
          "model_module": "@jupyter-widgets/controls",
          "model_name": "FloatProgressModel",
          "state": {
            "_dom_classes": [],
            "_model_module": "@jupyter-widgets/controls",
            "_model_module_version": "1.5.0",
            "_model_name": "FloatProgressModel",
            "_view_count": null,
            "_view_module": "@jupyter-widgets/controls",
            "_view_module_version": "1.5.0",
            "_view_name": "ProgressView",
            "bar_style": "success",
            "description": "100%",
            "description_tooltip": null,
            "layout": "IPY_MODEL_2f7afc7473b94ead80c2388152ac3c1c",
            "max": 23883,
            "min": 0,
            "orientation": "horizontal",
            "style": "IPY_MODEL_a89c78e71b5c4c2f9f1b41127ddabc17",
            "value": 23883
          }
        },
        "51deb93173184747b730d590e05611cd": {
          "model_module": "@jupyter-widgets/controls",
          "model_name": "HTMLModel",
          "state": {
            "_dom_classes": [],
            "_model_module": "@jupyter-widgets/controls",
            "_model_module_version": "1.5.0",
            "_model_name": "HTMLModel",
            "_view_count": null,
            "_view_module": "@jupyter-widgets/controls",
            "_view_module_version": "1.5.0",
            "_view_name": "HTMLView",
            "description": "",
            "description_tooltip": null,
            "layout": "IPY_MODEL_3d94ceb596ee41c0b7d807e2218ba46a",
            "placeholder": "​",
            "style": "IPY_MODEL_3e2c620455884b2d8c13680432e6b5f4",
            "value": " 23883/23883 [04:05&lt;00:00, 97.44it/s]"
          }
        },
        "a89c78e71b5c4c2f9f1b41127ddabc17": {
          "model_module": "@jupyter-widgets/controls",
          "model_name": "ProgressStyleModel",
          "state": {
            "_model_module": "@jupyter-widgets/controls",
            "_model_module_version": "1.5.0",
            "_model_name": "ProgressStyleModel",
            "_view_count": null,
            "_view_module": "@jupyter-widgets/base",
            "_view_module_version": "1.2.0",
            "_view_name": "StyleView",
            "bar_color": null,
            "description_width": "initial"
          }
        },
        "2f7afc7473b94ead80c2388152ac3c1c": {
          "model_module": "@jupyter-widgets/base",
          "model_name": "LayoutModel",
          "state": {
            "_model_module": "@jupyter-widgets/base",
            "_model_module_version": "1.2.0",
            "_model_name": "LayoutModel",
            "_view_count": null,
            "_view_module": "@jupyter-widgets/base",
            "_view_module_version": "1.2.0",
            "_view_name": "LayoutView",
            "align_content": null,
            "align_items": null,
            "align_self": null,
            "border": null,
            "bottom": null,
            "display": null,
            "flex": null,
            "flex_flow": null,
            "grid_area": null,
            "grid_auto_columns": null,
            "grid_auto_flow": null,
            "grid_auto_rows": null,
            "grid_column": null,
            "grid_gap": null,
            "grid_row": null,
            "grid_template_areas": null,
            "grid_template_columns": null,
            "grid_template_rows": null,
            "height": null,
            "justify_content": null,
            "justify_items": null,
            "left": null,
            "margin": null,
            "max_height": null,
            "max_width": null,
            "min_height": null,
            "min_width": null,
            "object_fit": null,
            "object_position": null,
            "order": null,
            "overflow": null,
            "overflow_x": null,
            "overflow_y": null,
            "padding": null,
            "right": null,
            "top": null,
            "visibility": null,
            "width": null
          }
        },
        "3e2c620455884b2d8c13680432e6b5f4": {
          "model_module": "@jupyter-widgets/controls",
          "model_name": "DescriptionStyleModel",
          "state": {
            "_model_module": "@jupyter-widgets/controls",
            "_model_module_version": "1.5.0",
            "_model_name": "DescriptionStyleModel",
            "_view_count": null,
            "_view_module": "@jupyter-widgets/base",
            "_view_module_version": "1.2.0",
            "_view_name": "StyleView",
            "description_width": ""
          }
        },
        "3d94ceb596ee41c0b7d807e2218ba46a": {
          "model_module": "@jupyter-widgets/base",
          "model_name": "LayoutModel",
          "state": {
            "_model_module": "@jupyter-widgets/base",
            "_model_module_version": "1.2.0",
            "_model_name": "LayoutModel",
            "_view_count": null,
            "_view_module": "@jupyter-widgets/base",
            "_view_module_version": "1.2.0",
            "_view_name": "LayoutView",
            "align_content": null,
            "align_items": null,
            "align_self": null,
            "border": null,
            "bottom": null,
            "display": null,
            "flex": null,
            "flex_flow": null,
            "grid_area": null,
            "grid_auto_columns": null,
            "grid_auto_flow": null,
            "grid_auto_rows": null,
            "grid_column": null,
            "grid_gap": null,
            "grid_row": null,
            "grid_template_areas": null,
            "grid_template_columns": null,
            "grid_template_rows": null,
            "height": null,
            "justify_content": null,
            "justify_items": null,
            "left": null,
            "margin": null,
            "max_height": null,
            "max_width": null,
            "min_height": null,
            "min_width": null,
            "object_fit": null,
            "object_position": null,
            "order": null,
            "overflow": null,
            "overflow_x": null,
            "overflow_y": null,
            "padding": null,
            "right": null,
            "top": null,
            "visibility": null,
            "width": null
          }
        },
        "f1435e50b95a42bfaddbcf0b736fe55c": {
          "model_module": "@jupyter-widgets/controls",
          "model_name": "HBoxModel",
          "state": {
            "_dom_classes": [],
            "_model_module": "@jupyter-widgets/controls",
            "_model_module_version": "1.5.0",
            "_model_name": "HBoxModel",
            "_view_count": null,
            "_view_module": "@jupyter-widgets/controls",
            "_view_module_version": "1.5.0",
            "_view_name": "HBoxView",
            "box_style": "",
            "children": [
              "IPY_MODEL_fb53a2dbed2d48348028711f268adbc7",
              "IPY_MODEL_4de76d9e454b4b4a8e04fe6e6ed46fa6"
            ],
            "layout": "IPY_MODEL_d4a0422052984a8aafdde6c1cb976a43"
          }
        },
        "d4a0422052984a8aafdde6c1cb976a43": {
          "model_module": "@jupyter-widgets/base",
          "model_name": "LayoutModel",
          "state": {
            "_model_module": "@jupyter-widgets/base",
            "_model_module_version": "1.2.0",
            "_model_name": "LayoutModel",
            "_view_count": null,
            "_view_module": "@jupyter-widgets/base",
            "_view_module_version": "1.2.0",
            "_view_name": "LayoutView",
            "align_content": null,
            "align_items": null,
            "align_self": null,
            "border": null,
            "bottom": null,
            "display": null,
            "flex": null,
            "flex_flow": null,
            "grid_area": null,
            "grid_auto_columns": null,
            "grid_auto_flow": null,
            "grid_auto_rows": null,
            "grid_column": null,
            "grid_gap": null,
            "grid_row": null,
            "grid_template_areas": null,
            "grid_template_columns": null,
            "grid_template_rows": null,
            "height": null,
            "justify_content": null,
            "justify_items": null,
            "left": null,
            "margin": null,
            "max_height": null,
            "max_width": null,
            "min_height": null,
            "min_width": null,
            "object_fit": null,
            "object_position": null,
            "order": null,
            "overflow": null,
            "overflow_x": null,
            "overflow_y": null,
            "padding": null,
            "right": null,
            "top": null,
            "visibility": null,
            "width": null
          }
        },
        "fb53a2dbed2d48348028711f268adbc7": {
          "model_module": "@jupyter-widgets/controls",
          "model_name": "FloatProgressModel",
          "state": {
            "_dom_classes": [],
            "_model_module": "@jupyter-widgets/controls",
            "_model_module_version": "1.5.0",
            "_model_name": "FloatProgressModel",
            "_view_count": null,
            "_view_module": "@jupyter-widgets/controls",
            "_view_module_version": "1.5.0",
            "_view_name": "ProgressView",
            "bar_style": "success",
            "description": "100%",
            "description_tooltip": null,
            "layout": "IPY_MODEL_19278378091a4200926c063d4e74279e",
            "max": 251,
            "min": 0,
            "orientation": "horizontal",
            "style": "IPY_MODEL_e596609918764e3694af28b3dca17bdc",
            "value": 251
          }
        },
        "4de76d9e454b4b4a8e04fe6e6ed46fa6": {
          "model_module": "@jupyter-widgets/controls",
          "model_name": "HTMLModel",
          "state": {
            "_dom_classes": [],
            "_model_module": "@jupyter-widgets/controls",
            "_model_module_version": "1.5.0",
            "_model_name": "HTMLModel",
            "_view_count": null,
            "_view_module": "@jupyter-widgets/controls",
            "_view_module_version": "1.5.0",
            "_view_name": "HTMLView",
            "description": "",
            "description_tooltip": null,
            "layout": "IPY_MODEL_469344cea3a04b2d858f130fd1c145b4",
            "placeholder": "​",
            "style": "IPY_MODEL_f0104d3c62c84298890750f732699eb0",
            "value": " 251/251 [00:09&lt;00:00, 26.91it/s]"
          }
        },
        "e596609918764e3694af28b3dca17bdc": {
          "model_module": "@jupyter-widgets/controls",
          "model_name": "ProgressStyleModel",
          "state": {
            "_model_module": "@jupyter-widgets/controls",
            "_model_module_version": "1.5.0",
            "_model_name": "ProgressStyleModel",
            "_view_count": null,
            "_view_module": "@jupyter-widgets/base",
            "_view_module_version": "1.2.0",
            "_view_name": "StyleView",
            "bar_color": null,
            "description_width": "initial"
          }
        },
        "19278378091a4200926c063d4e74279e": {
          "model_module": "@jupyter-widgets/base",
          "model_name": "LayoutModel",
          "state": {
            "_model_module": "@jupyter-widgets/base",
            "_model_module_version": "1.2.0",
            "_model_name": "LayoutModel",
            "_view_count": null,
            "_view_module": "@jupyter-widgets/base",
            "_view_module_version": "1.2.0",
            "_view_name": "LayoutView",
            "align_content": null,
            "align_items": null,
            "align_self": null,
            "border": null,
            "bottom": null,
            "display": null,
            "flex": null,
            "flex_flow": null,
            "grid_area": null,
            "grid_auto_columns": null,
            "grid_auto_flow": null,
            "grid_auto_rows": null,
            "grid_column": null,
            "grid_gap": null,
            "grid_row": null,
            "grid_template_areas": null,
            "grid_template_columns": null,
            "grid_template_rows": null,
            "height": null,
            "justify_content": null,
            "justify_items": null,
            "left": null,
            "margin": null,
            "max_height": null,
            "max_width": null,
            "min_height": null,
            "min_width": null,
            "object_fit": null,
            "object_position": null,
            "order": null,
            "overflow": null,
            "overflow_x": null,
            "overflow_y": null,
            "padding": null,
            "right": null,
            "top": null,
            "visibility": null,
            "width": null
          }
        },
        "f0104d3c62c84298890750f732699eb0": {
          "model_module": "@jupyter-widgets/controls",
          "model_name": "DescriptionStyleModel",
          "state": {
            "_model_module": "@jupyter-widgets/controls",
            "_model_module_version": "1.5.0",
            "_model_name": "DescriptionStyleModel",
            "_view_count": null,
            "_view_module": "@jupyter-widgets/base",
            "_view_module_version": "1.2.0",
            "_view_name": "StyleView",
            "description_width": ""
          }
        },
        "469344cea3a04b2d858f130fd1c145b4": {
          "model_module": "@jupyter-widgets/base",
          "model_name": "LayoutModel",
          "state": {
            "_model_module": "@jupyter-widgets/base",
            "_model_module_version": "1.2.0",
            "_model_name": "LayoutModel",
            "_view_count": null,
            "_view_module": "@jupyter-widgets/base",
            "_view_module_version": "1.2.0",
            "_view_name": "LayoutView",
            "align_content": null,
            "align_items": null,
            "align_self": null,
            "border": null,
            "bottom": null,
            "display": null,
            "flex": null,
            "flex_flow": null,
            "grid_area": null,
            "grid_auto_columns": null,
            "grid_auto_flow": null,
            "grid_auto_rows": null,
            "grid_column": null,
            "grid_gap": null,
            "grid_row": null,
            "grid_template_areas": null,
            "grid_template_columns": null,
            "grid_template_rows": null,
            "height": null,
            "justify_content": null,
            "justify_items": null,
            "left": null,
            "margin": null,
            "max_height": null,
            "max_width": null,
            "min_height": null,
            "min_width": null,
            "object_fit": null,
            "object_position": null,
            "order": null,
            "overflow": null,
            "overflow_x": null,
            "overflow_y": null,
            "padding": null,
            "right": null,
            "top": null,
            "visibility": null,
            "width": null
          }
        },
        "214629d2aea04436bf3aac71505fe557": {
          "model_module": "@jupyter-widgets/controls",
          "model_name": "HBoxModel",
          "state": {
            "_dom_classes": [],
            "_model_module": "@jupyter-widgets/controls",
            "_model_module_version": "1.5.0",
            "_model_name": "HBoxModel",
            "_view_count": null,
            "_view_module": "@jupyter-widgets/controls",
            "_view_module_version": "1.5.0",
            "_view_name": "HBoxView",
            "box_style": "",
            "children": [
              "IPY_MODEL_a8d1ada67c274a3393617147537164ad",
              "IPY_MODEL_804eff746a68474fa00c6521981e94a6"
            ],
            "layout": "IPY_MODEL_d6d238e1d9a044128e9a3689f7431930"
          }
        },
        "d6d238e1d9a044128e9a3689f7431930": {
          "model_module": "@jupyter-widgets/base",
          "model_name": "LayoutModel",
          "state": {
            "_model_module": "@jupyter-widgets/base",
            "_model_module_version": "1.2.0",
            "_model_name": "LayoutModel",
            "_view_count": null,
            "_view_module": "@jupyter-widgets/base",
            "_view_module_version": "1.2.0",
            "_view_name": "LayoutView",
            "align_content": null,
            "align_items": null,
            "align_self": null,
            "border": null,
            "bottom": null,
            "display": null,
            "flex": null,
            "flex_flow": null,
            "grid_area": null,
            "grid_auto_columns": null,
            "grid_auto_flow": null,
            "grid_auto_rows": null,
            "grid_column": null,
            "grid_gap": null,
            "grid_row": null,
            "grid_template_areas": null,
            "grid_template_columns": null,
            "grid_template_rows": null,
            "height": null,
            "justify_content": null,
            "justify_items": null,
            "left": null,
            "margin": null,
            "max_height": null,
            "max_width": null,
            "min_height": null,
            "min_width": null,
            "object_fit": null,
            "object_position": null,
            "order": null,
            "overflow": null,
            "overflow_x": null,
            "overflow_y": null,
            "padding": null,
            "right": null,
            "top": null,
            "visibility": null,
            "width": null
          }
        },
        "a8d1ada67c274a3393617147537164ad": {
          "model_module": "@jupyter-widgets/controls",
          "model_name": "FloatProgressModel",
          "state": {
            "_dom_classes": [],
            "_model_module": "@jupyter-widgets/controls",
            "_model_module_version": "1.5.0",
            "_model_name": "FloatProgressModel",
            "_view_count": null,
            "_view_module": "@jupyter-widgets/controls",
            "_view_module_version": "1.5.0",
            "_view_name": "ProgressView",
            "bar_style": "success",
            "description": "100%",
            "description_tooltip": null,
            "layout": "IPY_MODEL_421c18d2d1ef4506980f4dddfbb41826",
            "max": 251,
            "min": 0,
            "orientation": "horizontal",
            "style": "IPY_MODEL_f6a9d9af070c40e6a36c6681a7dd6536",
            "value": 251
          }
        },
        "804eff746a68474fa00c6521981e94a6": {
          "model_module": "@jupyter-widgets/controls",
          "model_name": "HTMLModel",
          "state": {
            "_dom_classes": [],
            "_model_module": "@jupyter-widgets/controls",
            "_model_module_version": "1.5.0",
            "_model_name": "HTMLModel",
            "_view_count": null,
            "_view_module": "@jupyter-widgets/controls",
            "_view_module_version": "1.5.0",
            "_view_name": "HTMLView",
            "description": "",
            "description_tooltip": null,
            "layout": "IPY_MODEL_073c3196276243a3bdc428f406aed5b4",
            "placeholder": "​",
            "style": "IPY_MODEL_2f4f8a21d9b24a65b51511eb14f82d1f",
            "value": " 251/251 [04:28&lt;00:00,  1.07s/it]"
          }
        },
        "f6a9d9af070c40e6a36c6681a7dd6536": {
          "model_module": "@jupyter-widgets/controls",
          "model_name": "ProgressStyleModel",
          "state": {
            "_model_module": "@jupyter-widgets/controls",
            "_model_module_version": "1.5.0",
            "_model_name": "ProgressStyleModel",
            "_view_count": null,
            "_view_module": "@jupyter-widgets/base",
            "_view_module_version": "1.2.0",
            "_view_name": "StyleView",
            "bar_color": null,
            "description_width": "initial"
          }
        },
        "421c18d2d1ef4506980f4dddfbb41826": {
          "model_module": "@jupyter-widgets/base",
          "model_name": "LayoutModel",
          "state": {
            "_model_module": "@jupyter-widgets/base",
            "_model_module_version": "1.2.0",
            "_model_name": "LayoutModel",
            "_view_count": null,
            "_view_module": "@jupyter-widgets/base",
            "_view_module_version": "1.2.0",
            "_view_name": "LayoutView",
            "align_content": null,
            "align_items": null,
            "align_self": null,
            "border": null,
            "bottom": null,
            "display": null,
            "flex": null,
            "flex_flow": null,
            "grid_area": null,
            "grid_auto_columns": null,
            "grid_auto_flow": null,
            "grid_auto_rows": null,
            "grid_column": null,
            "grid_gap": null,
            "grid_row": null,
            "grid_template_areas": null,
            "grid_template_columns": null,
            "grid_template_rows": null,
            "height": null,
            "justify_content": null,
            "justify_items": null,
            "left": null,
            "margin": null,
            "max_height": null,
            "max_width": null,
            "min_height": null,
            "min_width": null,
            "object_fit": null,
            "object_position": null,
            "order": null,
            "overflow": null,
            "overflow_x": null,
            "overflow_y": null,
            "padding": null,
            "right": null,
            "top": null,
            "visibility": null,
            "width": null
          }
        },
        "2f4f8a21d9b24a65b51511eb14f82d1f": {
          "model_module": "@jupyter-widgets/controls",
          "model_name": "DescriptionStyleModel",
          "state": {
            "_model_module": "@jupyter-widgets/controls",
            "_model_module_version": "1.5.0",
            "_model_name": "DescriptionStyleModel",
            "_view_count": null,
            "_view_module": "@jupyter-widgets/base",
            "_view_module_version": "1.2.0",
            "_view_name": "StyleView",
            "description_width": ""
          }
        },
        "073c3196276243a3bdc428f406aed5b4": {
          "model_module": "@jupyter-widgets/base",
          "model_name": "LayoutModel",
          "state": {
            "_model_module": "@jupyter-widgets/base",
            "_model_module_version": "1.2.0",
            "_model_name": "LayoutModel",
            "_view_count": null,
            "_view_module": "@jupyter-widgets/base",
            "_view_module_version": "1.2.0",
            "_view_name": "LayoutView",
            "align_content": null,
            "align_items": null,
            "align_self": null,
            "border": null,
            "bottom": null,
            "display": null,
            "flex": null,
            "flex_flow": null,
            "grid_area": null,
            "grid_auto_columns": null,
            "grid_auto_flow": null,
            "grid_auto_rows": null,
            "grid_column": null,
            "grid_gap": null,
            "grid_row": null,
            "grid_template_areas": null,
            "grid_template_columns": null,
            "grid_template_rows": null,
            "height": null,
            "justify_content": null,
            "justify_items": null,
            "left": null,
            "margin": null,
            "max_height": null,
            "max_width": null,
            "min_height": null,
            "min_width": null,
            "object_fit": null,
            "object_position": null,
            "order": null,
            "overflow": null,
            "overflow_x": null,
            "overflow_y": null,
            "padding": null,
            "right": null,
            "top": null,
            "visibility": null,
            "width": null
          }
        },
        "0c5ba4029fce4bc5b388435e62a1e033": {
          "model_module": "@jupyter-widgets/controls",
          "model_name": "HBoxModel",
          "state": {
            "_dom_classes": [],
            "_model_module": "@jupyter-widgets/controls",
            "_model_module_version": "1.5.0",
            "_model_name": "HBoxModel",
            "_view_count": null,
            "_view_module": "@jupyter-widgets/controls",
            "_view_module_version": "1.5.0",
            "_view_name": "HBoxView",
            "box_style": "",
            "children": [
              "IPY_MODEL_e94747c20a044bc19dda626b2c4240b9",
              "IPY_MODEL_2c8f688bc5ef45bfa084673804dbc26f"
            ],
            "layout": "IPY_MODEL_ff4d0b7f759343b6a275873585b36a9a"
          }
        },
        "ff4d0b7f759343b6a275873585b36a9a": {
          "model_module": "@jupyter-widgets/base",
          "model_name": "LayoutModel",
          "state": {
            "_model_module": "@jupyter-widgets/base",
            "_model_module_version": "1.2.0",
            "_model_name": "LayoutModel",
            "_view_count": null,
            "_view_module": "@jupyter-widgets/base",
            "_view_module_version": "1.2.0",
            "_view_name": "LayoutView",
            "align_content": null,
            "align_items": null,
            "align_self": null,
            "border": null,
            "bottom": null,
            "display": null,
            "flex": null,
            "flex_flow": null,
            "grid_area": null,
            "grid_auto_columns": null,
            "grid_auto_flow": null,
            "grid_auto_rows": null,
            "grid_column": null,
            "grid_gap": null,
            "grid_row": null,
            "grid_template_areas": null,
            "grid_template_columns": null,
            "grid_template_rows": null,
            "height": null,
            "justify_content": null,
            "justify_items": null,
            "left": null,
            "margin": null,
            "max_height": null,
            "max_width": null,
            "min_height": null,
            "min_width": null,
            "object_fit": null,
            "object_position": null,
            "order": null,
            "overflow": null,
            "overflow_x": null,
            "overflow_y": null,
            "padding": null,
            "right": null,
            "top": null,
            "visibility": null,
            "width": null
          }
        },
        "e94747c20a044bc19dda626b2c4240b9": {
          "model_module": "@jupyter-widgets/controls",
          "model_name": "FloatProgressModel",
          "state": {
            "_dom_classes": [],
            "_model_module": "@jupyter-widgets/controls",
            "_model_module_version": "1.5.0",
            "_model_name": "FloatProgressModel",
            "_view_count": null,
            "_view_module": "@jupyter-widgets/controls",
            "_view_module_version": "1.5.0",
            "_view_name": "ProgressView",
            "bar_style": "success",
            "description": "100%",
            "description_tooltip": null,
            "layout": "IPY_MODEL_d1075b1a6d7a4b8683f11f8bb8ff9a71",
            "max": 7188,
            "min": 0,
            "orientation": "horizontal",
            "style": "IPY_MODEL_8c47f8d6f1324ce68c370ec49122f05f",
            "value": 7188
          }
        },
        "2c8f688bc5ef45bfa084673804dbc26f": {
          "model_module": "@jupyter-widgets/controls",
          "model_name": "HTMLModel",
          "state": {
            "_dom_classes": [],
            "_model_module": "@jupyter-widgets/controls",
            "_model_module_version": "1.5.0",
            "_model_name": "HTMLModel",
            "_view_count": null,
            "_view_module": "@jupyter-widgets/controls",
            "_view_module_version": "1.5.0",
            "_view_name": "HTMLView",
            "description": "",
            "description_tooltip": null,
            "layout": "IPY_MODEL_9ebeda0af55b47daace009165512000e",
            "placeholder": "​",
            "style": "IPY_MODEL_6caf2a67788f449bba4d02642acbf0ec",
            "value": " 7188/7188 [00:11&lt;00:00, 613.13it/s]"
          }
        },
        "8c47f8d6f1324ce68c370ec49122f05f": {
          "model_module": "@jupyter-widgets/controls",
          "model_name": "ProgressStyleModel",
          "state": {
            "_model_module": "@jupyter-widgets/controls",
            "_model_module_version": "1.5.0",
            "_model_name": "ProgressStyleModel",
            "_view_count": null,
            "_view_module": "@jupyter-widgets/base",
            "_view_module_version": "1.2.0",
            "_view_name": "StyleView",
            "bar_color": null,
            "description_width": "initial"
          }
        },
        "d1075b1a6d7a4b8683f11f8bb8ff9a71": {
          "model_module": "@jupyter-widgets/base",
          "model_name": "LayoutModel",
          "state": {
            "_model_module": "@jupyter-widgets/base",
            "_model_module_version": "1.2.0",
            "_model_name": "LayoutModel",
            "_view_count": null,
            "_view_module": "@jupyter-widgets/base",
            "_view_module_version": "1.2.0",
            "_view_name": "LayoutView",
            "align_content": null,
            "align_items": null,
            "align_self": null,
            "border": null,
            "bottom": null,
            "display": null,
            "flex": null,
            "flex_flow": null,
            "grid_area": null,
            "grid_auto_columns": null,
            "grid_auto_flow": null,
            "grid_auto_rows": null,
            "grid_column": null,
            "grid_gap": null,
            "grid_row": null,
            "grid_template_areas": null,
            "grid_template_columns": null,
            "grid_template_rows": null,
            "height": null,
            "justify_content": null,
            "justify_items": null,
            "left": null,
            "margin": null,
            "max_height": null,
            "max_width": null,
            "min_height": null,
            "min_width": null,
            "object_fit": null,
            "object_position": null,
            "order": null,
            "overflow": null,
            "overflow_x": null,
            "overflow_y": null,
            "padding": null,
            "right": null,
            "top": null,
            "visibility": null,
            "width": null
          }
        },
        "6caf2a67788f449bba4d02642acbf0ec": {
          "model_module": "@jupyter-widgets/controls",
          "model_name": "DescriptionStyleModel",
          "state": {
            "_model_module": "@jupyter-widgets/controls",
            "_model_module_version": "1.5.0",
            "_model_name": "DescriptionStyleModel",
            "_view_count": null,
            "_view_module": "@jupyter-widgets/base",
            "_view_module_version": "1.2.0",
            "_view_name": "StyleView",
            "description_width": ""
          }
        },
        "9ebeda0af55b47daace009165512000e": {
          "model_module": "@jupyter-widgets/base",
          "model_name": "LayoutModel",
          "state": {
            "_model_module": "@jupyter-widgets/base",
            "_model_module_version": "1.2.0",
            "_model_name": "LayoutModel",
            "_view_count": null,
            "_view_module": "@jupyter-widgets/base",
            "_view_module_version": "1.2.0",
            "_view_name": "LayoutView",
            "align_content": null,
            "align_items": null,
            "align_self": null,
            "border": null,
            "bottom": null,
            "display": null,
            "flex": null,
            "flex_flow": null,
            "grid_area": null,
            "grid_auto_columns": null,
            "grid_auto_flow": null,
            "grid_auto_rows": null,
            "grid_column": null,
            "grid_gap": null,
            "grid_row": null,
            "grid_template_areas": null,
            "grid_template_columns": null,
            "grid_template_rows": null,
            "height": null,
            "justify_content": null,
            "justify_items": null,
            "left": null,
            "margin": null,
            "max_height": null,
            "max_width": null,
            "min_height": null,
            "min_width": null,
            "object_fit": null,
            "object_position": null,
            "order": null,
            "overflow": null,
            "overflow_x": null,
            "overflow_y": null,
            "padding": null,
            "right": null,
            "top": null,
            "visibility": null,
            "width": null
          }
        },
        "0f2e70d18adc41438c5d29e22ef323ac": {
          "model_module": "@jupyter-widgets/controls",
          "model_name": "HBoxModel",
          "state": {
            "_dom_classes": [],
            "_model_module": "@jupyter-widgets/controls",
            "_model_module_version": "1.5.0",
            "_model_name": "HBoxModel",
            "_view_count": null,
            "_view_module": "@jupyter-widgets/controls",
            "_view_module_version": "1.5.0",
            "_view_name": "HBoxView",
            "box_style": "",
            "children": [
              "IPY_MODEL_04799364acc5403596db8301d4a98a44",
              "IPY_MODEL_629916fec4114f56a3598619698680b2"
            ],
            "layout": "IPY_MODEL_b8844d4d012b4d80b62fb6592853c6c6"
          }
        },
        "b8844d4d012b4d80b62fb6592853c6c6": {
          "model_module": "@jupyter-widgets/base",
          "model_name": "LayoutModel",
          "state": {
            "_model_module": "@jupyter-widgets/base",
            "_model_module_version": "1.2.0",
            "_model_name": "LayoutModel",
            "_view_count": null,
            "_view_module": "@jupyter-widgets/base",
            "_view_module_version": "1.2.0",
            "_view_name": "LayoutView",
            "align_content": null,
            "align_items": null,
            "align_self": null,
            "border": null,
            "bottom": null,
            "display": null,
            "flex": null,
            "flex_flow": null,
            "grid_area": null,
            "grid_auto_columns": null,
            "grid_auto_flow": null,
            "grid_auto_rows": null,
            "grid_column": null,
            "grid_gap": null,
            "grid_row": null,
            "grid_template_areas": null,
            "grid_template_columns": null,
            "grid_template_rows": null,
            "height": null,
            "justify_content": null,
            "justify_items": null,
            "left": null,
            "margin": null,
            "max_height": null,
            "max_width": null,
            "min_height": null,
            "min_width": null,
            "object_fit": null,
            "object_position": null,
            "order": null,
            "overflow": null,
            "overflow_x": null,
            "overflow_y": null,
            "padding": null,
            "right": null,
            "top": null,
            "visibility": null,
            "width": null
          }
        },
        "04799364acc5403596db8301d4a98a44": {
          "model_module": "@jupyter-widgets/controls",
          "model_name": "FloatProgressModel",
          "state": {
            "_dom_classes": [],
            "_model_module": "@jupyter-widgets/controls",
            "_model_module_version": "1.5.0",
            "_model_name": "FloatProgressModel",
            "_view_count": null,
            "_view_module": "@jupyter-widgets/controls",
            "_view_module_version": "1.5.0",
            "_view_name": "ProgressView",
            "bar_style": "success",
            "description": "100%",
            "description_tooltip": null,
            "layout": "IPY_MODEL_113856de94e049ea8e5a5ebfc3adc936",
            "max": 251,
            "min": 0,
            "orientation": "horizontal",
            "style": "IPY_MODEL_cdaad7a9420945d8987fa0008f8c72b5",
            "value": 251
          }
        },
        "629916fec4114f56a3598619698680b2": {
          "model_module": "@jupyter-widgets/controls",
          "model_name": "HTMLModel",
          "state": {
            "_dom_classes": [],
            "_model_module": "@jupyter-widgets/controls",
            "_model_module_version": "1.5.0",
            "_model_name": "HTMLModel",
            "_view_count": null,
            "_view_module": "@jupyter-widgets/controls",
            "_view_module_version": "1.5.0",
            "_view_name": "HTMLView",
            "description": "",
            "description_tooltip": null,
            "layout": "IPY_MODEL_3ec28164aad949238eb967b82520a5f5",
            "placeholder": "​",
            "style": "IPY_MODEL_ff0b49b22e7e4a79b1dcd7bc69c3ed8c",
            "value": " 251/251 [00:00&lt;00:00, 283.18it/s]"
          }
        },
        "cdaad7a9420945d8987fa0008f8c72b5": {
          "model_module": "@jupyter-widgets/controls",
          "model_name": "ProgressStyleModel",
          "state": {
            "_model_module": "@jupyter-widgets/controls",
            "_model_module_version": "1.5.0",
            "_model_name": "ProgressStyleModel",
            "_view_count": null,
            "_view_module": "@jupyter-widgets/base",
            "_view_module_version": "1.2.0",
            "_view_name": "StyleView",
            "bar_color": null,
            "description_width": "initial"
          }
        },
        "113856de94e049ea8e5a5ebfc3adc936": {
          "model_module": "@jupyter-widgets/base",
          "model_name": "LayoutModel",
          "state": {
            "_model_module": "@jupyter-widgets/base",
            "_model_module_version": "1.2.0",
            "_model_name": "LayoutModel",
            "_view_count": null,
            "_view_module": "@jupyter-widgets/base",
            "_view_module_version": "1.2.0",
            "_view_name": "LayoutView",
            "align_content": null,
            "align_items": null,
            "align_self": null,
            "border": null,
            "bottom": null,
            "display": null,
            "flex": null,
            "flex_flow": null,
            "grid_area": null,
            "grid_auto_columns": null,
            "grid_auto_flow": null,
            "grid_auto_rows": null,
            "grid_column": null,
            "grid_gap": null,
            "grid_row": null,
            "grid_template_areas": null,
            "grid_template_columns": null,
            "grid_template_rows": null,
            "height": null,
            "justify_content": null,
            "justify_items": null,
            "left": null,
            "margin": null,
            "max_height": null,
            "max_width": null,
            "min_height": null,
            "min_width": null,
            "object_fit": null,
            "object_position": null,
            "order": null,
            "overflow": null,
            "overflow_x": null,
            "overflow_y": null,
            "padding": null,
            "right": null,
            "top": null,
            "visibility": null,
            "width": null
          }
        },
        "ff0b49b22e7e4a79b1dcd7bc69c3ed8c": {
          "model_module": "@jupyter-widgets/controls",
          "model_name": "DescriptionStyleModel",
          "state": {
            "_model_module": "@jupyter-widgets/controls",
            "_model_module_version": "1.5.0",
            "_model_name": "DescriptionStyleModel",
            "_view_count": null,
            "_view_module": "@jupyter-widgets/base",
            "_view_module_version": "1.2.0",
            "_view_name": "StyleView",
            "description_width": ""
          }
        },
        "3ec28164aad949238eb967b82520a5f5": {
          "model_module": "@jupyter-widgets/base",
          "model_name": "LayoutModel",
          "state": {
            "_model_module": "@jupyter-widgets/base",
            "_model_module_version": "1.2.0",
            "_model_name": "LayoutModel",
            "_view_count": null,
            "_view_module": "@jupyter-widgets/base",
            "_view_module_version": "1.2.0",
            "_view_name": "LayoutView",
            "align_content": null,
            "align_items": null,
            "align_self": null,
            "border": null,
            "bottom": null,
            "display": null,
            "flex": null,
            "flex_flow": null,
            "grid_area": null,
            "grid_auto_columns": null,
            "grid_auto_flow": null,
            "grid_auto_rows": null,
            "grid_column": null,
            "grid_gap": null,
            "grid_row": null,
            "grid_template_areas": null,
            "grid_template_columns": null,
            "grid_template_rows": null,
            "height": null,
            "justify_content": null,
            "justify_items": null,
            "left": null,
            "margin": null,
            "max_height": null,
            "max_width": null,
            "min_height": null,
            "min_width": null,
            "object_fit": null,
            "object_position": null,
            "order": null,
            "overflow": null,
            "overflow_x": null,
            "overflow_y": null,
            "padding": null,
            "right": null,
            "top": null,
            "visibility": null,
            "width": null
          }
        }
      }
    }
  },
  "cells": [
    {
      "cell_type": "markdown",
      "metadata": {
        "id": "view-in-github",
        "colab_type": "text"
      },
      "source": [
        "<a href=\"https://colab.research.google.com/github/Pai-Ya-Ting/Text-mining/blob/main/Information-Retrieval.ipynb\" target=\"_parent\"><img src=\"https://colab.research.google.com/assets/colab-badge.svg\" alt=\"Open In Colab\"/></a>"
      ]
    },
    {
      "cell_type": "markdown",
      "metadata": {
        "id": "Ckz7473QXAch"
      },
      "source": [
        "# Information Retrieval - Vector Space Model- Homework 3"
      ]
    },
    {
      "cell_type": "markdown",
      "metadata": {
        "id": "BV2j4REMdv4e"
      },
      "source": [
        "## (a) Choose a query text for yourself."
      ]
    },
    {
      "cell_type": "code",
      "metadata": {
        "id": "YyyAAj9ldz6W"
      },
      "source": [
        "query = \"crime thrill drama action movie\""
      ],
      "execution_count": null,
      "outputs": []
    },
    {
      "cell_type": "markdown",
      "metadata": {
        "id": "gSxhuZZeZOej"
      },
      "source": [
        "## (b) Information Retrieval” without feature selection "
      ]
    },
    {
      "cell_type": "markdown",
      "metadata": {
        "id": "aDbXmHAP6K3n"
      },
      "source": [
        "**Step 1: Read all file in \"movies_synopsis\" folder**\n"
      ]
    },
    {
      "cell_type": "code",
      "metadata": {
        "id": "wVIGxWwPDBbH"
      },
      "source": [
        "# !unzip movies_synopsis.zip"
      ],
      "execution_count": null,
      "outputs": []
    },
    {
      "cell_type": "code",
      "metadata": {
        "colab": {
          "base_uri": "https://localhost:8080/"
        },
        "id": "VtoulvPvpz5O",
        "outputId": "f97668df-46dc-483a-bf6f-48f36d190888"
      },
      "source": [
        "# this code will read all file in \"movies_synopsis\" folder, use nltk to tokenize and convert to lower()case\n",
        "import nltk,os\n",
        "nltk.download('punkt')\n",
        "file_path = \"movies_synopsis/\"\n",
        "doc_all={}\n",
        "\n",
        "for filename in os.listdir(file_path ):\n",
        "    fileExtension = filename.split(\".\")[-1]\n",
        "    if fileExtension == \"txt\": # just read .txt file, in case google drive insert some hidden file which make the error.\n",
        "        text = open(file_path+filename).read()\n",
        "        tokens = nltk.word_tokenize(text)\n",
        "        token_filtered = [w.lower() for w in tokens if w.isalpha()]\n",
        "        doc_all[filename[:-4]] = token_filtered"
      ],
      "execution_count": null,
      "outputs": [
        {
          "output_type": "stream",
          "text": [
            "[nltk_data] Downloading package punkt to /root/nltk_data...\n",
            "[nltk_data]   Package punkt is already up-to-date!\n"
          ],
          "name": "stdout"
        }
      ]
    },
    {
      "cell_type": "markdown",
      "metadata": {
        "id": "ZI4qFfNNsE6T"
      },
      "source": [
        "**Step2: convert all document to vector, use tfidf weighting**"
      ]
    },
    {
      "cell_type": "code",
      "metadata": {
        "id": "HuQ1FZeMsXTk"
      },
      "source": [
        "# Declare all function \n",
        "# create tf function\n",
        "def tf(term, token_doc):\n",
        "    tf = token_doc.count(term)/len(token_doc)\n",
        "    return tf\n",
        "\n",
        "# create function to calculate how many doc contain the term \n",
        "def numDocsContaining(word, token_doclist):\n",
        "    doccount = 0\n",
        "    for doc_token in token_doclist:\n",
        "        if doc_token.count(word) > 0:\n",
        "            doccount +=1\n",
        "    return doccount\n",
        "  \n",
        "import math\n",
        "# create function to calculate  Inverse Document Frequency in doclist - this list of all documents\n",
        "def idf(word, token_doclist):\n",
        "    n = len(token_doclist)\n",
        "    df = numDocsContaining(word, token_doclist)\n",
        "    return math.log10(n/df)\n",
        "\n",
        "#define a function to do cosine normalization a data dictionary\n",
        "def cos_norm(dic): # dic is distionary data structure\n",
        "    import numpy as np\n",
        "    dic_norm={}\n",
        "    factor=1.0/np.sqrt(sum([np.square(i) for i in dic.values()]))\n",
        "    for k in dic:\n",
        "        dic_norm[k] = dic[k]*factor\n",
        "    return dic_norm\n",
        "\n",
        "#create function to calculate normalize tfidf \n",
        "def compute_tfidf(token_doc,bag_words_idf):\n",
        "    tfidf_doc={}\n",
        "    for word in set(token_doc):\n",
        "        tfidf_doc[word]= tf(word,token_doc) * bag_words_idf[word]   \n",
        "    tfidf_norm = cos_norm(tfidf_doc)\n",
        "    return tfidf_norm\n",
        "\n",
        "# create normalize term frequency\n",
        "def tf_norm(token_doc):\n",
        "    tf_norm={}\n",
        "    for term in token_doc:\n",
        "        tf = token_doc.count(term)/len(token_doc)\n",
        "        tf_norm[term]=tf\n",
        "    tf_max = max(tf_norm.values())\n",
        "    for term, value in tf_norm.items():\n",
        "        tf_norm[term]= 0.5 + 0.5*value/tf_max\n",
        "    return tf_norm\n",
        "\n",
        "def compute_tfidf_query(query_token,bag_words_idf):\n",
        "    tfidf_query={}\n",
        "    tf_norm_query = tf_norm(query_token)\n",
        "    for term, value in tf_norm_query.items():\n",
        "        tfidf_query[term]=value*bag_words_idf[term]   \n",
        "    return tfidf_query"
      ],
      "execution_count": null,
      "outputs": []
    },
    {
      "cell_type": "code",
      "metadata": {
        "colab": {
          "base_uri": "https://localhost:8080/",
          "height": 166,
          "referenced_widgets": [
            "ff72374fa76f420bb2e392f08b0e3a42",
            "a9cf0877ae54486eb3a3c67abc221c77",
            "4a221adc505d4abaaf14f7445a1452ba",
            "51deb93173184747b730d590e05611cd",
            "a89c78e71b5c4c2f9f1b41127ddabc17",
            "2f7afc7473b94ead80c2388152ac3c1c",
            "3e2c620455884b2d8c13680432e6b5f4",
            "3d94ceb596ee41c0b7d807e2218ba46a",
            "f1435e50b95a42bfaddbcf0b736fe55c",
            "d4a0422052984a8aafdde6c1cb976a43",
            "fb53a2dbed2d48348028711f268adbc7",
            "4de76d9e454b4b4a8e04fe6e6ed46fa6",
            "e596609918764e3694af28b3dca17bdc",
            "19278378091a4200926c063d4e74279e",
            "f0104d3c62c84298890750f732699eb0",
            "469344cea3a04b2d858f130fd1c145b4"
          ]
        },
        "id": "6qmW_HbRsr9K",
        "outputId": "141c6834-827e-4c6f-928c-3c279e64ea4e"
      },
      "source": [
        "import os\n",
        "\n",
        "#create bag words\n",
        "bag_words =[] # declare bag_words is a list\n",
        "for doc in doc_all.keys():\n",
        "    bag_words += doc_all[doc]\n",
        "bag_words=set(bag_words)\n",
        "\n",
        "#calculate idf for every word in bag_words\n",
        "bag_words_idf={} # declare \"bag_words_idf\" data structure is dictionary \n",
        "print(\"the number of term in bag_word\", len(bag_words))\n",
        "print(\"Start idf processing\")\n",
        "from tqdm.notebook import tqdm # using tqdm to show process bar\n",
        "for word in tqdm(bag_words):\n",
        "    bag_words_idf[word]= idf(word,doc_all.values())\n",
        "\n",
        "\n",
        "##calculate tfidf with cosine normalization\n",
        "tfidf={} # declare tfidf dictionary to store tfidf value\n",
        "print(\"start tfidf processing\")\n",
        "for doc in tqdm(doc_all.keys()):\n",
        "    tfidf[doc]= compute_tfidf(doc_all[doc],bag_words_idf)"
      ],
      "execution_count": null,
      "outputs": [
        {
          "output_type": "stream",
          "text": [
            "the number of term in bag_word 23883\n",
            "Start idf processing\n"
          ],
          "name": "stdout"
        },
        {
          "output_type": "display_data",
          "data": {
            "application/vnd.jupyter.widget-view+json": {
              "model_id": "ff72374fa76f420bb2e392f08b0e3a42",
              "version_major": 2,
              "version_minor": 0
            },
            "text/plain": [
              "HBox(children=(FloatProgress(value=0.0, max=23883.0), HTML(value='')))"
            ]
          },
          "metadata": {
            "tags": []
          }
        },
        {
          "output_type": "stream",
          "text": [
            "\n",
            "start tfidf processing\n"
          ],
          "name": "stdout"
        },
        {
          "output_type": "display_data",
          "data": {
            "application/vnd.jupyter.widget-view+json": {
              "model_id": "f1435e50b95a42bfaddbcf0b736fe55c",
              "version_major": 2,
              "version_minor": 0
            },
            "text/plain": [
              "HBox(children=(FloatProgress(value=0.0, max=251.0), HTML(value='')))"
            ]
          },
          "metadata": {
            "tags": []
          }
        },
        {
          "output_type": "stream",
          "text": [
            "\n"
          ],
          "name": "stdout"
        }
      ]
    },
    {
      "cell_type": "code",
      "metadata": {
        "colab": {
          "base_uri": "https://localhost:8080/"
        },
        "id": "A741Q4e6ch6H",
        "outputId": "44fe7380-ea54-48f6-dc31-d376e235d454"
      },
      "source": [
        "len(bag_words)"
      ],
      "execution_count": null,
      "outputs": [
        {
          "output_type": "execute_result",
          "data": {
            "text/plain": [
              "23883"
            ]
          },
          "metadata": {
            "tags": []
          },
          "execution_count": 8
        }
      ]
    },
    {
      "cell_type": "markdown",
      "metadata": {
        "id": "6-x6jEqh2iA6"
      },
      "source": [
        "**Step3: Input query text, and take similarity, if you change the query text, just need to  run the code again from here if change query text** "
      ]
    },
    {
      "cell_type": "code",
      "metadata": {
        "colab": {
          "base_uri": "https://localhost:8080/",
          "height": 316
        },
        "id": "u0n3vWEKIync",
        "outputId": "f613bc97-af1f-4a20-b031-4d34b7edd8e4"
      },
      "source": [
        "# query=\"love romance movie\"\n",
        "query_token_raw= nltk.word_tokenize(query)\n",
        "query_token = [term for term in query_token_raw if term in bag_words]\n",
        "tfidf_query =compute_tfidf_query(query_token,bag_words_idf) #calculate tfidf for query text\n",
        "\n",
        "# add tfidf of query text to tfidf of all doc and convert to dataframe\n",
        "tfidf[\"query\"]=tfidf_query\n",
        "\n",
        "import pandas as pd\n",
        "tfidf_df = pd.DataFrame(tfidf).transpose()\n",
        "tfidf_df= tfidf_df.fillna(0) # replace all NaN by zero\n",
        "\n",
        "from scipy.spatial.distance import cosine\n",
        "cosine_sim ={}\n",
        "for row in tfidf_df.index:\n",
        "    if row != \"query\":\n",
        "        cosine_sim[row]= 1-cosine(tfidf_df.loc[row],tfidf_df.loc[\"query\"])\n",
        "\n",
        "# the top 10 relevant document\n",
        "cosine_sim_top10 = dict(sorted(cosine_sim.items(), key=lambda item: item[1],reverse=True)[:10])\n",
        "print(cosine_sim_top10)\n",
        "\n",
        "#plot barchart\n",
        "import matplotlib.pyplot as plt\n",
        "data = cosine_sim_top10\n",
        "plt.barh(range(len(data)), list(data.values()), align='center', alpha=0.8)\n",
        "plt.yticks(range(len(data)), list(data.keys())) # label for y axis\n",
        "plt.xlabel('Smimilarity score')\n",
        "plt.ylabel('Course')\n",
        "\n",
        "# save graph\n",
        "plt.savefig(\"barchart.png\", bbox_inches='tight', dpi=600)\n",
        "plt.show()"
      ],
      "execution_count": null,
      "outputs": [
        {
          "output_type": "stream",
          "text": [
            "{'Into the Wild (2007)': 0.018774226569654218, 'Memories of Murder (2003)': 0.017003567545757492, 'Catch Me If You Can (2002)': 0.013794138011742119, 'City of God (2002)': 0.013547716394114784, 'In the Mood for Love (2000)': 0.010591561758591994, 'Hotel Rwanda (2004)': 0.010174045738272297, 'Oldboy (2003)': 0.009659356161331512, 'Goodfellas (1990)': 0.009506874821883282, 'Monty Python_s Life of Brian (1979)': 0.008851604978115435, 'Jurassic Park (1993)': 0.008796667162047522}\n"
          ],
          "name": "stdout"
        },
        {
          "output_type": "display_data",
          "data": {
            "image/png": "[encoded data removed]",
            "text/plain": [
              "<Figure size 432x288 with 1 Axes>"
            ]
          },
          "metadata": {
            "tags": [],
            "needs_background": "light"
          }
        }
      ]
    },
    {
      "cell_type": "markdown",
      "metadata": {
        "id": "GmG6oRWGZe3B"
      },
      "source": [
        "# (c) Information Retrieval” with feature selection "
      ]
    },
    {
      "cell_type": "markdown",
      "metadata": {
        "id": "ub6WNOvKql_T"
      },
      "source": [
        "**Step1: tokenization and Feature selection**"
      ]
    },
    {
      "cell_type": "code",
      "metadata": {
        "colab": {
          "base_uri": "https://localhost:8080/",
          "height": 66,
          "referenced_widgets": [
            "214629d2aea04436bf3aac71505fe557",
            "d6d238e1d9a044128e9a3689f7431930",
            "a8d1ada67c274a3393617147537164ad",
            "804eff746a68474fa00c6521981e94a6",
            "f6a9d9af070c40e6a36c6681a7dd6536",
            "421c18d2d1ef4506980f4dddfbb41826",
            "2f4f8a21d9b24a65b51511eb14f82d1f",
            "073c3196276243a3bdc428f406aed5b4"
          ]
        },
        "id": "p8PwmUdoZhGA",
        "outputId": "65dbee03-0eed-463a-cc2d-9539e7bd52af"
      },
      "source": [
        "import os\n",
        "#Define function for feature selection (Lemmatization , POS using spacy package)\n",
        "def pos_lem(text):\n",
        "    nlp = spacy.load(\"en_core_web_sm\")\n",
        "    doc = nlp(text)\n",
        "    pos_lem_tokens =[]\n",
        "    for token in doc:\n",
        "        if token.tag_ in [\"NN\"]:  # student can choose tag [\"NN\", \"JJ\", \"VBG\"] POS tag set in Penn Treebank project\n",
        "            pos_lem_tokens+= [token.lemma_] # choose lemma text\n",
        "    return pos_lem_tokens\n",
        "\n",
        "import os, spacy\n",
        "file_path = \"movies_synopsis/\"\n",
        "doc_all_pos_lem={}\n",
        "\n",
        "from tqdm.notebook import tqdm # show percentage of for loop\n",
        "for filename in tqdm(os.listdir(file_path )):\n",
        "    fileExtension = filename.split(\".\")[-1]\n",
        "    if fileExtension == \"txt\": # just read .txt file, in case google drive insert some hidden file which make the error.\n",
        "        text = open(file_path+filename).read()\n",
        "        pos_lem_tokens = pos_lem(text)\n",
        "        doc_all_pos_lem[filename[:-4]]=pos_lem_tokens"
      ],
      "execution_count": null,
      "outputs": [
        {
          "output_type": "display_data",
          "data": {
            "application/vnd.jupyter.widget-view+json": {
              "model_id": "214629d2aea04436bf3aac71505fe557",
              "version_major": 2,
              "version_minor": 0
            },
            "text/plain": [
              "HBox(children=(FloatProgress(value=0.0, max=251.0), HTML(value='')))"
            ]
          },
          "metadata": {
            "tags": []
          }
        },
        {
          "output_type": "stream",
          "text": [
            "\n"
          ],
          "name": "stdout"
        }
      ]
    },
    {
      "cell_type": "markdown",
      "metadata": {
        "id": "Nrncvxvtq2kS"
      },
      "source": [
        "**Step2: convert all document to vector, use tfidf weighting**"
      ]
    },
    {
      "cell_type": "code",
      "metadata": {
        "colab": {
          "base_uri": "https://localhost:8080/",
          "height": 166,
          "referenced_widgets": [
            "0c5ba4029fce4bc5b388435e62a1e033",
            "ff4d0b7f759343b6a275873585b36a9a",
            "e94747c20a044bc19dda626b2c4240b9",
            "2c8f688bc5ef45bfa084673804dbc26f",
            "8c47f8d6f1324ce68c370ec49122f05f",
            "d1075b1a6d7a4b8683f11f8bb8ff9a71",
            "6caf2a67788f449bba4d02642acbf0ec",
            "9ebeda0af55b47daace009165512000e",
            "0f2e70d18adc41438c5d29e22ef323ac",
            "b8844d4d012b4d80b62fb6592853c6c6",
            "04799364acc5403596db8301d4a98a44",
            "629916fec4114f56a3598619698680b2",
            "cdaad7a9420945d8987fa0008f8c72b5",
            "113856de94e049ea8e5a5ebfc3adc936",
            "ff0b49b22e7e4a79b1dcd7bc69c3ed8c",
            "3ec28164aad949238eb967b82520a5f5"
          ]
        },
        "id": "CB5bKCWcLsvJ",
        "outputId": "38d09545-542c-4b39-ac7a-585e2779d277"
      },
      "source": [
        "import os\n",
        "#create bag words\n",
        "bag_words_pos_lem =[] # declare bag_words is a list\n",
        "for doc in doc_all_pos_lem.keys():\n",
        "    bag_words_pos_lem += doc_all_pos_lem[doc]\n",
        "bag_words_pos_lem=set(bag_words_pos_lem)\n",
        "\n",
        "#calculate idf for every word in bag_words\n",
        "bag_words_pos_lem_idf={} # declare \"bag_words_idf\" data structure is dictionary \n",
        "print(\"the number of term in bag_word\", len(bag_words_pos_lem))\n",
        "print(\"Start idf processing\")\n",
        "from tqdm.notebook import tqdm\n",
        "for word in tqdm(bag_words_pos_lem):\n",
        "  \n",
        "  bag_words_pos_lem_idf[word]= idf(word,doc_all_pos_lem.values())\n",
        "\n",
        "\n",
        "##calculate tfidf with cosine normalization\n",
        "tfidf_pos_lem={} # declare tfidf dictionary to store tfidf value\n",
        "print(\"Start tfidf processing\")\n",
        "for doc in tqdm(doc_all_pos_lem.keys()):\n",
        "    tfidf_pos_lem[doc]= compute_tfidf(doc_all_pos_lem[doc],bag_words_pos_lem_idf)"
      ],
      "execution_count": null,
      "outputs": [
        {
          "output_type": "stream",
          "text": [
            "the number of term in bag_word 7188\n",
            "Start idf processing\n"
          ],
          "name": "stdout"
        },
        {
          "output_type": "display_data",
          "data": {
            "application/vnd.jupyter.widget-view+json": {
              "model_id": "0c5ba4029fce4bc5b388435e62a1e033",
              "version_major": 2,
              "version_minor": 0
            },
            "text/plain": [
              "HBox(children=(FloatProgress(value=0.0, max=7188.0), HTML(value='')))"
            ]
          },
          "metadata": {
            "tags": []
          }
        },
        {
          "output_type": "stream",
          "text": [
            "\n",
            "Start tfidf processing\n"
          ],
          "name": "stdout"
        },
        {
          "output_type": "display_data",
          "data": {
            "application/vnd.jupyter.widget-view+json": {
              "model_id": "0f2e70d18adc41438c5d29e22ef323ac",
              "version_major": 2,
              "version_minor": 0
            },
            "text/plain": [
              "HBox(children=(FloatProgress(value=0.0, max=251.0), HTML(value='')))"
            ]
          },
          "metadata": {
            "tags": []
          }
        },
        {
          "output_type": "stream",
          "text": [
            "\n"
          ],
          "name": "stdout"
        }
      ]
    },
    {
      "cell_type": "markdown",
      "metadata": {
        "id": "DGfl7H8Yq-nL"
      },
      "source": [
        "**Step3: Input query text, and take similarity, if you change the query text, just need to  run the code again from here if change query text** "
      ]
    },
    {
      "cell_type": "code",
      "metadata": {
        "colab": {
          "base_uri": "https://localhost:8080/",
          "height": 316
        },
        "id": "tq9H1YljNHax",
        "outputId": "9bbcdbfe-7dfd-4334-a07c-821d7c9bd35b"
      },
      "source": [
        "query_token_raw= pos_lem(query)\n",
        "query_token = [term for term in query_token_raw if term in bag_words_pos_lem]\n",
        "tfidf_query =compute_tfidf_query(query_token,bag_words_pos_lem_idf) #calculate tfidf for query text\n",
        "\n",
        "# add tfidf of query text to tfidf of all doc and convert to dataframe\n",
        "tfidf_pos_lem[\"query\"]=tfidf_query\n",
        "\n",
        "import pandas as pd\n",
        "tfidf_pos_lem_df = pd.DataFrame(tfidf_pos_lem).transpose()\n",
        "tfidf_pos_lem_df= tfidf_pos_lem_df.fillna(0) # replace all NaN by zero\n",
        "\n",
        "from scipy.spatial.distance import cosine\n",
        "cosine_sim ={}\n",
        "for row in tfidf_pos_lem_df.index:\n",
        "    if row != \"query\":\n",
        "        cosine_sim[row]= 1-cosine(tfidf_pos_lem_df.loc[row],tfidf_pos_lem_df.loc[\"query\"])\n",
        "\n",
        "# the top 10 relevant document\n",
        "cosine_sim_top10 = dict(sorted(cosine_sim.items(), key=lambda item: item[1],reverse=True)[:10])\n",
        "print(cosine_sim_top10)\n",
        "\n",
        "#plot barchart\n",
        "import matplotlib.pyplot as plt\n",
        "data = cosine_sim_top10\n",
        "plt.barh(range(len(data)), list(data.values()), align='center', alpha=0.8)\n",
        "plt.yticks(range(len(data)), list(data.keys())) # label for y axis\n",
        "plt.xlabel('Smimilarity score')\n",
        "plt.ylabel('Course')\n",
        "\n",
        "# save graph\n",
        "plt.savefig(\"barchart.png\", bbox_inches='tight', dpi=600)\n",
        "plt.show()"
      ],
      "execution_count": null,
      "outputs": [
        {
          "output_type": "stream",
          "text": [
            "{'Goodfellas (1990)': 0.13980336498515955, 'City of God (2002)': 0.13498461090083635, 'In the Mood for Love (2000)': 0.12301841459392349, 'Memories of Murder (2003)': 0.11813814322686378, 'Cinema Paradiso (1988)': 0.0741026361278615, 'The Departed (2006)': 0.07383107841133396, 'The Green Mile (1999)': 0.0673280849979967, 'Casablanca (1942)': 0.06646842215042692, 'The Secret in Their Eyes (2009)': 0.0644051839017018, 'Dial M for Murder (1954)': 0.05620724694225043}\n"
          ],
          "name": "stdout"
        },
        {
          "output_type": "display_data",
          "data": {
            "image/png": "[encoded data removed]",
            "text/plain": [
              "<Figure size 432x288 with 1 Axes>"
            ]
          },
          "metadata": {
            "tags": [],
            "needs_background": "light"
          }
        }
      ]
    },
    {
      "cell_type": "code",
      "metadata": {
        "colab": {
          "base_uri": "https://localhost:8080/"
        },
        "id": "2YUnxyDdDN4Q",
        "outputId": "114b1506-65bd-4af8-f743-c4c2e57c2049"
      },
      "source": [
        "len(bag_words_pos_lem)"
      ],
      "execution_count": null,
      "outputs": [
        {
          "output_type": "execute_result",
          "data": {
            "text/plain": [
              "7188"
            ]
          },
          "metadata": {
            "tags": []
          },
          "execution_count": 13
        }
      ]
    },
    {
      "cell_type": "markdown",
      "metadata": {
        "id": "vRBM7lDYepAm"
      },
      "source": [
        "# (d) Compare your result in 2 cases: \n",
        "\n",
        "use/not use feature selection based on (1) Speed (how long the code run), the number of feature (number of terms in bag word) and the query result (the relevant movies you can extract using query text). Give your reflection about these results."
      ]
    },
    {
      "cell_type": "markdown",
      "metadata": {
        "id": "ObKO7QOSetBU"
      },
      "source": [
        "(1) Speed:\n",
        "\n",
        "After using feature selection, the number of terms in the bag of words drops from 23883 to 7188. Therefore, the speed of calculating idf becomes a lot faster.\n",
        "\n",
        "(2) The number of features:\n",
        "After we perform feature selection, some irrevalant words would be removed. As a result, the number of terms in bag drops.\n",
        "\n",
        "Since the terms in the bag of words is more meaningful, the similarity after feature selection improves a lot.\n",
        "\n",
        "(3) The query result:"
      ]
    },
    {
      "cell_type": "markdown",
      "metadata": {
        "id": "-N3PB76Dmpwd"
      },
      "source": [
        "\n",
        "## **Before feature selection**\n",
        "\n",
        "Into the Wild: Adventure, Biography, Drama\n",
        "\n",
        "Memories of Murder: Crime, Drama, Mystery \n",
        "\n",
        "Catch Me If You Can: Biography, Crime, Drama \n",
        "\n",
        "City of God: Crime, Drama \n",
        "\n",
        "In the Mood for Love: Drama, Romance \n",
        "\n",
        "Hotel Rwanda: Biography, Drama, History \n",
        "\n",
        "Oldboy: Action, Drama, Mystery \n",
        "\n",
        "Goodfellas: Biography, Crime, Drama \n",
        "\n",
        "Monty python's life of Brian: Comedy\n",
        "\n",
        "Jurassic Park: Action, Adventure, Sci-Fi \n",
        "\n",
        "\n",
        "## **After feature selection**\n",
        "\n",
        "Goodfellas: Biography, Crime, Drama \n",
        "\n",
        "City of God: Crime, Drama\n",
        "\n",
        "In the Mood for Love: Drama, Romance \n",
        "\n",
        "Memories of Murder: Crime, Drama, Mystery \n",
        "\n",
        "Cinema Paradiso: Drama, Romance \n",
        "\n",
        "The Departed: Crime, Drama, Thriller \n",
        "\n",
        "The Green Mile: Crime, Drama, Fantasy \n",
        "\n",
        "Casablanca: Drama, Romance, War \n",
        "\n",
        "The Secret in Their Eyes: Drama, Mystery, Romance \n",
        "\n",
        "Dial M for Murder: Crime, Thriller"
      ]
    },
    {
      "cell_type": "markdown",
      "metadata": {
        "id": "LxLUodYEo3-8"
      },
      "source": [
        "**As we can see, after feature selection, the query result is more accurate than the one without feature selection.**"
      ]
    },
    {
      "cell_type": "code",
      "metadata": {
        "id": "EivkJ4pel9kX"
      },
      "source": [
        ""
      ],
      "execution_count": null,
      "outputs": []
    }
  ]
}